{
 "cells": [
  {
   "cell_type": "markdown",
   "metadata": {},
   "source": [
    "# TensorFlow Assignment: Multilayer Perceptron (MLP) and Convolutional Neural Network (CNN)"
   ]
  },
  {
   "cell_type": "markdown",
   "metadata": {},
   "source": [
    "**[Duke Community Standard](http://integrity.duke.edu/standard.html): By typing your name below, you are certifying that you have adhered to the Duke Community Standard in completing this assignment.**\n",
    "\n",
    "Name: [Jinwei Wan]\n"
   ]
  },
  {
   "cell_type": "markdown",
   "metadata": {},
   "source": [
    "Now that you've run through a simple logistic regression model on MNIST, let's see if we can do better (Hint: we can). For this assignment, you'll build a multilayer perceptron (MLP) and a convolutional neural network (CNN), two popular types of neural networks, and compare their performance. Some potentially useful code:"
   ]
  },
  {
   "cell_type": "code",
   "execution_count": 1,
   "metadata": {
    "scrolled": true
   },
   "outputs": [
    {
     "name": "stdout",
     "output_type": "stream",
     "text": [
      "Extracting MNIST_data/train-images-idx3-ubyte.gz\n",
      "Extracting MNIST_data/train-labels-idx1-ubyte.gz\n",
      "Extracting MNIST_data/t10k-images-idx3-ubyte.gz\n",
      "Extracting MNIST_data/t10k-labels-idx1-ubyte.gz\n"
     ]
    }
   ],
   "source": [
    "import tensorflow as tf\n",
    "from tensorflow.examples.tutorials.mnist import input_data\n",
    "\n",
    "# Import data\n",
    "mnist = input_data.read_data_sets(\"MNIST_data/\", one_hot=True)"
   ]
  },
  {
   "cell_type": "code",
   "execution_count": 2,
   "metadata": {
    "collapsed": true
   },
   "outputs": [],
   "source": [
    "_,nin = mnist.train.images.shape\n",
    "_,nout = mnist.test.labels.shape\n",
    "nhid = 500"
   ]
  },
  {
   "cell_type": "code",
   "execution_count": 3,
   "metadata": {},
   "outputs": [
    {
     "data": {
      "text/plain": [
       "(784, 500, 10)"
      ]
     },
     "execution_count": 3,
     "metadata": {},
     "output_type": "execute_result"
    }
   ],
   "source": [
    "nin,nhid,nout"
   ]
  },
  {
   "cell_type": "code",
   "execution_count": 4,
   "metadata": {
    "collapsed": true
   },
   "outputs": [],
   "source": [
    "# Helper functions for creating weight variables\n",
    "def weight_variable(shape):\n",
    "    \"\"\"weight_variable generates a weight variable of a given shape.\"\"\"\n",
    "    initial = tf.truncated_normal(shape, stddev=0.1)\n",
    "    return tf.Variable(initial)\n",
    "\n",
    "def bias_variable(shape):\n",
    "    \"\"\"bias_variable generates a bias variable of a given shape.\"\"\"\n",
    "    initial = tf.constant(0.1, shape=shape)\n",
    "    return tf.Variable(initial)\n",
    "\n",
    "# Tensorflow Function that might also be of interest:\n",
    "# tf.nn.sigmoid()\n",
    "# tf.nn.relu()"
   ]
  },
  {
   "cell_type": "markdown",
   "metadata": {},
   "source": [
    "### Multilayer Perceptron\n",
    "\n",
    "Build a multilayer perceptron for MNIST digit classfication. Feel free to play around with the model architecture and see how the training time/performance changes, but to begin, try the following:\n",
    "\n",
    "Image -> fully connected (500 hidden units) -> nonlinearity (Sigmoid/ReLU) -> fully connected (10 hidden units) -> softmax\n",
    "\n",
    "Skeleton framework for you to fill in (Code you need to provide is marked by `###`):"
   ]
  },
  {
   "cell_type": "code",
   "execution_count": 5,
   "metadata": {},
   "outputs": [
    {
     "name": "stdout",
     "output_type": "stream",
     "text": [
      "step 0, validation accuracy 0.092\n",
      "step 250, validation accuracy 0.893\n",
      "step 500, validation accuracy 0.93\n",
      "step 750, validation accuracy 0.91\n",
      "step 1000, validation accuracy 0.925\n",
      "step 1250, validation accuracy 0.927\n",
      "step 1500, validation accuracy 0.957\n",
      "step 1750, validation accuracy 0.953\n",
      "step 2000, validation accuracy 0.956\n",
      "step 2250, validation accuracy 0.938\n",
      "step 2500, validation accuracy 0.957\n",
      "step 2750, validation accuracy 0.963\n",
      "step 3000, validation accuracy 0.965\n",
      "step 3250, validation accuracy 0.953\n",
      "step 3500, validation accuracy 0.967\n",
      "step 3750, validation accuracy 0.962\n",
      "test accuracy 0.9634\n"
     ]
    }
   ],
   "source": [
    "# Model Inputs\n",
    "x = tf.placeholder(\"float\", [None, 28*28])### MNIST images enter graph here ###\n",
    "y_ = tf.placeholder(\"float\", [None, 10])### MNIST labels enter graph here ###\n",
    "\n",
    "# Define the graph\n",
    "w_h = weight_variable([nin, nhid]) \n",
    "b_h = bias_variable([nhid])\n",
    "w_o = weight_variable([nhid, nout])\n",
    "b_o = bias_variable([nout])\n",
    "\n",
    "def mlp_sigm(x, w_h, b_h, w_o,b_o):\n",
    "    h1 = tf.nn.sigmoid(tf.matmul(x, w_h) + b_h) # this is a basic mlp, think 2 stacked logistic regressions\n",
    "    pyx = tf.matmul(h1, w_o) + b_o\n",
    "    return pyx # note that we dont take the softmax at the end because our cost fn does that for us\n",
    "\n",
    "def mlp_relu(x, w_h, b_h, w_o,b_o):\n",
    "    h1 = tf.nn.relu(tf.matmul(x, w_h) + b_h) # this is a basic mlp, think 2 stacked logistic regressions\n",
    "    pyx = tf.matmul(h1, w_o) + b_o\n",
    "    return pyx # note that we dont take the softmax at the end because our cost fn does that for us\n",
    "\n",
    "### Create your MLP here##\n",
    "### Make sure to name your MLP output as y_mlp ###\n",
    "y_mlp = mlp_sigm(x, w_h,b_h, w_o,b_o)\n",
    "#y_mlp = mlp_relu(x, w_h,b_h, w_o,b_o)\n",
    "\n",
    "# Loss \n",
    "cross_entropy = tf.reduce_mean(tf.nn.softmax_cross_entropy_with_logits(labels=y_, logits=y_mlp))\n",
    "\n",
    "# Optimizer\n",
    "train_step = tf.train.GradientDescentOptimizer(0.5).minimize(cross_entropy)\n",
    "\n",
    "# Evaluation\n",
    "correct_prediction = tf.equal(tf.argmax(y_mlp, 1), tf.argmax(y_, 1))\n",
    "accuracy = tf.reduce_mean(tf.cast(correct_prediction, tf.float32))\n",
    "\n",
    "with tf.Session() as sess:\n",
    "    # Initialize all variables\n",
    "    sess.run(tf.global_variables_initializer())\n",
    "    \n",
    "    # Training regimen\n",
    "    for i in range(4000):\n",
    "        # Validate every 250th batch\n",
    "        if i % 250 == 0:\n",
    "            validation_accuracy = 0\n",
    "            for v in range(10):\n",
    "                batch = mnist.validation.next_batch(100)\n",
    "                validation_accuracy += (1/10.) * accuracy.eval(feed_dict={x: batch[0], y_: batch[1]})\n",
    "            print('step %d, validation accuracy %g' % (i, validation_accuracy))\n",
    "        \n",
    "        # Train    \n",
    "        batch = mnist.train.next_batch(50)\n",
    "        train_step.run(feed_dict={x: batch[0], y_: batch[1]})\n",
    "\n",
    "    print('test accuracy %g' % accuracy.eval(feed_dict={x: mnist.test.images, y_: mnist.test.labels}))"
   ]
  },
  {
   "cell_type": "code",
   "execution_count": 6,
   "metadata": {},
   "outputs": [
    {
     "name": "stdout",
     "output_type": "stream",
     "text": [
      "step 0, validation accuracy 0.09\n",
      "step 250, validation accuracy 0.95\n",
      "step 500, validation accuracy 0.966\n",
      "step 750, validation accuracy 0.957\n",
      "step 1000, validation accuracy 0.97\n",
      "step 1250, validation accuracy 0.964\n",
      "step 1500, validation accuracy 0.949\n",
      "step 1750, validation accuracy 0.977\n",
      "step 2000, validation accuracy 0.979\n",
      "step 2250, validation accuracy 0.974\n",
      "step 2500, validation accuracy 0.975\n",
      "step 2750, validation accuracy 0.983\n",
      "step 3000, validation accuracy 0.983\n",
      "step 3250, validation accuracy 0.974\n",
      "step 3500, validation accuracy 0.98\n",
      "step 3750, validation accuracy 0.968\n",
      "test accuracy 0.9809\n"
     ]
    }
   ],
   "source": [
    "y_mlp = mlp_relu(x, w_h,b_h, w_o,b_o)\n",
    "\n",
    "# Loss \n",
    "cross_entropy = tf.reduce_mean(tf.nn.softmax_cross_entropy_with_logits(labels=y_, logits=y_mlp))\n",
    "\n",
    "# Optimizer\n",
    "train_step = tf.train.GradientDescentOptimizer(0.5).minimize(cross_entropy)\n",
    "\n",
    "# Evaluation\n",
    "correct_prediction = tf.equal(tf.argmax(y_mlp, 1), tf.argmax(y_, 1))\n",
    "accuracy = tf.reduce_mean(tf.cast(correct_prediction, tf.float32))\n",
    "\n",
    "with tf.Session() as sess:\n",
    "    # Initialize all variables\n",
    "    sess.run(tf.global_variables_initializer())\n",
    "    \n",
    "    # Training regimen\n",
    "    for i in range(4000):\n",
    "        # Validate every 250th batch\n",
    "        if i % 250 == 0:\n",
    "            validation_accuracy = 0\n",
    "            for v in range(10):\n",
    "                batch = mnist.validation.next_batch(100)\n",
    "                validation_accuracy += (1/10.) * accuracy.eval(feed_dict={x: batch[0], y_: batch[1]})\n",
    "            print('step %d, validation accuracy %g' % (i, validation_accuracy))\n",
    "        \n",
    "        # Train    \n",
    "        batch = mnist.train.next_batch(50)\n",
    "        train_step.run(feed_dict={x: batch[0], y_: batch[1]})\n",
    "\n",
    "    print('test accuracy %g' % accuracy.eval(feed_dict={x: mnist.test.images, y_: mnist.test.labels}))"
   ]
  },
  {
   "cell_type": "markdown",
   "metadata": {},
   "source": [
    "#### Comparison\n",
    "\n",
    "How do the sigmoid and rectified linear unit (ReLU) compare?"
   ]
  },
  {
   "cell_type": "markdown",
   "metadata": {},
   "source": [
    "***\n",
    "Answer:\n",
    "\n",
    "    Test accuracy of sigmoid activation is 96.34%\n",
    "    Test accuracy of ReLU activation is 98.09%\n",
    "    Training Time: sigmoid ≈ Relu\n",
    "    Obviously, Networks here using ReLU activation gets a better classification result than using sigmoid activation.\n",
    "***"
   ]
  },
  {
   "cell_type": "markdown",
   "metadata": {},
   "source": [
    "### Convolutional Neural Network\n",
    "\n",
    "Build a simple 2-layer CNN for MNIST digit classfication. Feel free to play around with the model architecture and see how the training time/performance changes, but to begin, try the following:\n",
    "\n",
    "Image -> CNN (32 5x5 filters) -> nonlinearity (ReLU) ->  (2x2 max pool) -> CNN (64 5x5 filters) -> nonlinearity (ReLU) -> (2x2 max pool) -> fully connected (1024 hidden units) -> nonlinearity (ReLU) -> fully connected (10 hidden units) -> softmax\n",
    "\n",
    "Some additional functions that you might find helpful:"
   ]
  },
  {
   "cell_type": "code",
   "execution_count": 7,
   "metadata": {
    "collapsed": true
   },
   "outputs": [],
   "source": [
    "# Convolutional neural network functions\n",
    "def conv2d(x, W):\n",
    "    \"\"\"conv2d returns a 2d convolution layer with full stride.\"\"\"\n",
    "    return tf.nn.conv2d(x, W, strides=[1, 1, 1, 1], padding='SAME')\n",
    "\n",
    "def max_pool_2x2(x):\n",
    "    \"\"\"max_pool_2x2 downsamples a feature map by 2X.\"\"\"\n",
    "    return tf.nn.max_pool(x, ksize=[1, 2, 2, 1], strides=[1, 2, 2, 1], padding='SAME')\n",
    "\n",
    "# Tensorflow Function that might also be of interest:\n",
    "# tf.reshape()"
   ]
  },
  {
   "cell_type": "markdown",
   "metadata": {},
   "source": [
    "Skeleton framework for you to fill in (Code you need to provide is marked by `###`):\n",
    "\n",
    "*Hint: Convolutional Neural Networks are spatial models. You'll want to transform the flattened MNIST vectors into images for the CNN. Similarly, you might want to flatten it again sometime before you do a softmax. You also might want to look into the  [conv2d() documentation](https://www.tensorflow.org/api_docs/python/tf/nn/conv2d) to see what shape kernel/filter it's expecting.*"
   ]
  },
  {
   "cell_type": "code",
   "execution_count": 8,
   "metadata": {
    "scrolled": true
   },
   "outputs": [
    {
     "name": "stdout",
     "output_type": "stream",
     "text": [
      "step 0, validation accuracy 0.102\n",
      "step 250, validation accuracy 0.912\n",
      "step 500, validation accuracy 0.964\n",
      "step 750, validation accuracy 0.964\n",
      "step 1000, validation accuracy 0.958\n",
      "step 1250, validation accuracy 0.966\n",
      "step 1500, validation accuracy 0.974\n",
      "step 1750, validation accuracy 0.98\n",
      "step 2000, validation accuracy 0.976\n",
      "step 2250, validation accuracy 0.992\n",
      "step 2500, validation accuracy 0.974\n",
      "step 2750, validation accuracy 0.978\n",
      "step 3000, validation accuracy 0.972\n",
      "step 3250, validation accuracy 0.984\n",
      "step 3500, validation accuracy 0.982\n",
      "step 3750, validation accuracy 0.984\n",
      "step 4000, validation accuracy 0.982\n",
      "step 4250, validation accuracy 0.982\n",
      "step 4500, validation accuracy 0.988\n",
      "step 4750, validation accuracy 0.986\n",
      "step 5000, validation accuracy 0.986\n",
      "step 5250, validation accuracy 0.986\n",
      "step 5500, validation accuracy 0.988\n",
      "step 5750, validation accuracy 0.994\n",
      "step 6000, validation accuracy 0.98\n",
      "step 6250, validation accuracy 0.99\n",
      "step 6500, validation accuracy 0.998\n",
      "step 6750, validation accuracy 0.988\n",
      "step 7000, validation accuracy 0.996\n",
      "step 7250, validation accuracy 0.98\n",
      "step 7500, validation accuracy 0.992\n",
      "step 7750, validation accuracy 0.992\n",
      "step 8000, validation accuracy 0.994\n",
      "step 8250, validation accuracy 0.976\n",
      "step 8500, validation accuracy 0.99\n",
      "step 8750, validation accuracy 0.988\n",
      "step 9000, validation accuracy 0.994\n",
      "step 9250, validation accuracy 0.99\n",
      "step 9500, validation accuracy 0.992\n",
      "step 9750, validation accuracy 0.988\n",
      "test accuracy 0.9878\n"
     ]
    }
   ],
   "source": [
    "# Model Inputs\n",
    "x = tf.placeholder(\"float\", [None, 28*28])### MNIST images enter graph here ###\n",
    "y_ = tf.placeholder(\"float\", [None, 10])### MNIST labels enter graph here ###\n",
    "\n",
    "# Define the graph\n",
    "w_conv1 = weight_variable([5,5,1,32]) \n",
    "#b_conv1 = bias_variable([32])\n",
    "w_conv2 = weight_variable([5,5,32,64]) \n",
    "#b_conv2 = bias_variable([64])\n",
    "w_fc3 = weight_variable([7*7*64,1024]) \n",
    "b_fc3 = bias_variable([1024])\n",
    "w_o = weight_variable([1024,10]) \n",
    "b_o = bias_variable([10])\n",
    "def conv_homework(x,w_conv1,w_conv2,w_fc3,b_fc3,w_o,b_o):\n",
    "    x_image = tf.reshape(x, [-1,28,28,1])# 28*28*1\n",
    "    h1_conv = conv2d(x_image, w_conv1) # 28*28*32\n",
    "    h1_pool = max_pool_2x2(h1_conv)# 14*14*32\n",
    "    h2_conv = conv2d(h1_pool, w_conv2)# 14*14*64\n",
    "    h2_pool = max_pool_2x2(h2_conv)# 7*7*64\n",
    "    h2_pool_flat = tf.reshape(h2_pool, [-1, 7*7*64])# reshape\n",
    "    h3_fc = tf.nn.relu(tf.matmul(h2_pool_flat, w_fc3) + b_fc3) # \n",
    "    pyx = tf.matmul(h3_fc, w_o) + b_o\n",
    "    return pyx # note that we dont take the softmax at the end because our cost fn does that for us\n",
    "\n",
    "### Create your CNN here##\n",
    "### Make sure to name your CNN output as y_conv ###\n",
    "\n",
    "y_conv = conv_homework(x,w_conv1,w_conv2,w_fc3,b_fc3,w_o,b_o)\n",
    "\n",
    "# Loss \n",
    "cross_entropy = tf.reduce_mean(tf.nn.softmax_cross_entropy_with_logits(labels=y_, logits=y_conv))\n",
    "\n",
    "# Optimizer\n",
    "train_step = tf.train.AdamOptimizer(1e-4).minimize(cross_entropy)\n",
    "\n",
    "# Evaluation\n",
    "correct_prediction = tf.equal(tf.argmax(y_conv, 1), tf.argmax(y_, 1))\n",
    "accuracy = tf.reduce_mean(tf.cast(correct_prediction, tf.float32))\n",
    "\n",
    "with tf.Session() as sess:\n",
    "    # Initialize all variables\n",
    "    sess.run(tf.global_variables_initializer())\n",
    "    \n",
    "    # Training regimen\n",
    "    for i in range(10000):\n",
    "        # Validate every 250th batch\n",
    "        if i % 250 == 0:\n",
    "            validation_accuracy = 0\n",
    "            for v in range(10):\n",
    "                batch = mnist.validation.next_batch(50)\n",
    "                validation_accuracy += (1/10.) * accuracy.eval(feed_dict={x: batch[0], y_: batch[1]})\n",
    "            print('step %d, validation accuracy %g' % (i, validation_accuracy))\n",
    "        \n",
    "        # Train    \n",
    "        batch = mnist.train.next_batch(50)\n",
    "        train_step.run(feed_dict={x: batch[0], y_: batch[1]})\n",
    "\n",
    "    print('test accuracy %g' % accuracy.eval(feed_dict={x: mnist.test.images, y_: mnist.test.labels}))"
   ]
  },
  {
   "cell_type": "markdown",
   "metadata": {},
   "source": [
    "Some differences from the logistic regression model to note:\n",
    "\n",
    "- The CNN model might take a while to train. Depending on your machine, you might expect this to take up to half an hour. If you see your validation performance start to plateau, you can kill the training.\n",
    "\n",
    "- The logistic regression model we used previously was pretty basic, and as such, we were able to get away with using the GradientDescentOptimizer, which performs implements the gradient descent algorithm. For more difficult optimization spaces (such as the ones deep networks pose), we might want to use more sophisticated algorithms. Prof David Carlson has a lecture on this later.\n",
    "    \n",
    "- Because of the larger size of our network, notice that our minibatch size has shrunk.\n",
    "    \n",
    "- We've added a validation step every 250 minibatches. This let's us see how our model is doing during the training process, rather than sit around twiddling our thumbs and hoping for the best when training finishes. This becomes especially significant as training regimens start approaching days and weeks in length. Normally, we validate on the entire validation set, but for the sake of time we'll just stick to 10 validation minibatches (500 images) for this homework assignment."
   ]
  },
  {
   "cell_type": "markdown",
   "metadata": {},
   "source": [
    "#### Comparison\n",
    "\n",
    "How do the MLP and CNN compare in accuracy? Training time? Why would you use one vs the other? Is there a problem you see with MLPs when applied to other image datasets?"
   ]
  },
  {
   "cell_type": "markdown",
   "metadata": {},
   "source": [
    "***\n",
    "Problem 1:\n",
    "\n",
    "    Test accuracy of ReLU activation(MLP) is 98.09% \n",
    "    Test accuracy of CNN is 98.78% \n",
    "    Acccuracy: CNN > MLP\n",
    "    Training Time: CNN >> MLP \n",
    "    \n",
    "Problem 2: \n",
    "\n",
    "    When your classification problem is easy(e.g. dataset like MNIST), using MLPs is good enough. MLPs have simple structure, training MLPs are very fast and using less calculation resource. \n",
    "    But, when your problem is complex(e.g. classify Image data), using CNNs maybe better, thought they are slow in training, but they always get a better result than MLPs.\n",
    "\n",
    "Problem 3: \n",
    "\n",
    "    When using MLPs, each sample(image) must reshape to a vector, but in CNNs the samples are using directly(Matrix format). That means in MLPs, the image structure are destoryed, this makes MLPs get lower accuracy than CNNs when in classification and other tasks.\n",
    "    \n",
    "***"
   ]
  },
  {
   "cell_type": "code",
   "execution_count": null,
   "metadata": {
    "collapsed": true
   },
   "outputs": [],
   "source": []
  }
 ],
 "metadata": {
  "anaconda-cloud": {},
  "kernelspec": {
   "display_name": "Python [conda env:tensorflow]",
   "language": "python",
   "name": "conda-env-tensorflow-py"
  },
  "language_info": {
   "codemirror_mode": {
    "name": "ipython",
    "version": 2
   },
   "file_extension": ".py",
   "mimetype": "text/x-python",
   "name": "python",
   "nbconvert_exporter": "python",
   "pygments_lexer": "ipython2",
   "version": "2.7.13"
  }
 },
 "nbformat": 4,
 "nbformat_minor": 2
}
